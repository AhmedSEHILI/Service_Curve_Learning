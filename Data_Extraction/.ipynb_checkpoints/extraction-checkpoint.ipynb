{
 "cells": [
  {
   "cell_type": "markdown",
   "id": "8ccc5834-b485-4d2c-9dd7-92c91ae94a5f",
   "metadata": {},
   "source": [
    "# Extraction des données du drone"
   ]
  },
  {
   "cell_type": "markdown",
   "id": "6cb82652-ce8a-4a22-a65b-b69869dc2053",
   "metadata": {},
   "source": [
    "Nous disposons des données de trois missions de vol du drone (longue, moyenne et courte), et pour chaque mission, quatre scénarios.\n",
    "Nous nous intéressons principalement à trois fichiers pour l'extraction des données : *ulog_activator_0*, *ulog_mission_result_0* et *ulog_scheduler_0*.\n",
    "\n",
    "Dans ce qui suis, nous choisissons donc la mission et le scénario que nous voulons analyser. Les fichiers CSV sont présents dans le dossier data, qui est dans le répertoire courant de ce notebook."
   ]
  },
  {
   "cell_type": "code",
   "execution_count": 1,
   "id": "a3b58e9a-3f54-45eb-8aac-9e6cdac31d86",
   "metadata": {},
   "outputs": [],
   "source": [
    "import pandas as pd\n",
    "import ipywidgets as widgets\n",
    "from IPython.display import display\n",
    "import csv\n",
    "from utils.analyzer import *\n",
    "import os"
   ]
  },
  {
   "cell_type": "markdown",
   "id": "06f666bb-5414-4fcc-bb9e-902efc61e8c7",
   "metadata": {},
   "source": [
    "### Définition d'un extracteur de données"
   ]
  },
  {
   "cell_type": "code",
   "execution_count": 2,
   "id": "c9163811-bb71-4a47-be61-6b38d314960f",
   "metadata": {},
   "outputs": [],
   "source": [
    "# Ce script était fait par l'équipe de kdbench, je l'utilise ici, \n",
    "\n",
    "def extractor(mission, scenario, job, tache):\n",
    "    # Find out mission time boundaries\n",
    "    \n",
    "    items = Trace.from_mission_result(f\"data_used/{mission}_mission/scenario{scenario}/ulog_mission_result_0.csv\")\n",
    "    lbound, rbound = items[0].ts, items[-1].ts\n",
    "    \n",
    "    # Load scheduler trace\n",
    "    trace = Trace.from_scheduler(f\"data_used/{mission}_mission/scenario{scenario}/ulog_scheduler_0.csv\")\n",
    "    \n",
    "    # Load and merge activation trace in\n",
    "    trace += Trace.from_activator(f\"data_used/{mission}_mission/scenario{scenario}/ulog_activator_0.csv\")\n",
    "    \n",
    "    # Restrict to time window enlarged by 1s on each side\n",
    "    lbound - 1e6 < trace < rbound + 1e6\n",
    "    \n",
    "    # Create a trace analyzer object\n",
    "    analyzer = JobAnalyzer(trace)\n",
    "    \n",
    "    return [getattr(j, job) for j in analyzer[MODULES.index(tache)]]\n",
    "\n",
    "    "
   ]
  },
  {
   "cell_type": "markdown",
   "id": "b0278d71-b8df-4865-80f2-a2a72575f0a3",
   "metadata": {},
   "source": [
    "### Définition d'un exporteur de données sous format csv"
   ]
  },
  {
   "cell_type": "code",
   "execution_count": 3,
   "id": "5169df26-215f-48ad-93fb-3bf9b8b4bce8",
   "metadata": {},
   "outputs": [],
   "source": [
    "def exporter(mission, scenario, tache, job , data):\n",
    "    # ici on crée un dossier correspondant à la mission/scénario \n",
    "    output_dir = f\"data_extracted/{mission}_mission/scenario{scenario}\"\n",
    "    os.makedirs(output_dir, exist_ok=True) \n",
    "    \n",
    "    # on mets les résultas d'extraction dans le fichier correspondant\n",
    "    with open(f\"{output_dir}/{job}_{tache}.csv\", mode='w', newline='') as file:\n",
    "        writer = csv.writer(file)\n",
    "        writer.writerow(['timestamp'])  \n",
    "        for i in range(len(data)): \n",
    "            row = [data[i]]\n",
    "            writer.writerow(row)"
   ]
  },
  {
   "cell_type": "markdown",
   "id": "ffabe045-f3ca-4e75-925e-08d206ad210a",
   "metadata": {},
   "source": [
    "Ici, nous pouvons choisir la mission/scenario, ainsi que la tâche"
   ]
  },
  {
   "cell_type": "code",
   "execution_count": 4,
   "id": "a2c8e998-ee67-4f14-b29c-962cb5c7b494",
   "metadata": {},
   "outputs": [],
   "source": [
    "ma_mission = 'short' # short, medium, long\n",
    "mon_scenario = 1\n",
    "ma_tache = 'pctl' #  (snsr', 'rctl', 'ekf2', 'actl', 'pctl', 'hte', 'fmgr', 'cmdr', 'navr')\n",
    "###################\n",
    "tasks_list = ['snsr', 'rctl', 'ekf2', 'actl', 'pctl', 'hte', 'fmgr', 'cmdr', 'navr'] # a ne pas changer\n"
   ]
  },
  {
   "cell_type": "markdown",
   "id": "7f1fed31-12e4-47ba-8750-620e7f6c32fc",
   "metadata": {},
   "source": [
    "## Extraction des temps d'activation"
   ]
  },
  {
   "cell_type": "markdown",
   "id": "9338ab1a-96b2-49e9-9c83-ca9e18f66802",
   "metadata": {},
   "source": [
    "### Extraction par tâche"
   ]
  },
  {
   "cell_type": "markdown",
   "id": "d02abb1f-41c7-4434-af10-16c4803af6aa",
   "metadata": {},
   "source": [
    "Dans cette partie on effectue une extraction des temps d'activation pour une tâche spécéfique\n"
   ]
  },
  {
   "cell_type": "code",
   "execution_count": 5,
   "id": "d2f3d31a-7452-4730-8351-11cf54a92794",
   "metadata": {},
   "outputs": [],
   "source": [
    "res = extractor(ma_mission, mon_scenario, \"xtime\", ma_tache)"
   ]
  },
  {
   "cell_type": "code",
   "execution_count": 6,
   "id": "7ed8a03d-2051-4adb-b8c7-468f56b8210b",
   "metadata": {},
   "outputs": [
    {
     "name": "stdout",
     "output_type": "stream",
     "text": [
      "[86, 28, 86, 85, 84, 85, 85, 85, 89, 28]\n",
      "longueur de la liste:  1068\n"
     ]
    }
   ],
   "source": [
    "print(res[:10])\n",
    "print(\"longueur de la liste: \", len(res))"
   ]
  },
  {
   "cell_type": "markdown",
   "id": "8cf232b2-80bd-4789-b119-4932cbe0f10d",
   "metadata": {},
   "source": [
    "#### Exportation des données sous format csv"
   ]
  },
  {
   "cell_type": "code",
   "execution_count": 7,
   "id": "ab80e87c-3134-41da-917c-064181dc0851",
   "metadata": {},
   "outputs": [],
   "source": [
    "exporter(ma_mission, mon_scenario, ma_tache, \"xtime\", res)"
   ]
  },
  {
   "cell_type": "markdown",
   "id": "52af1be3-6de2-4531-8d22-00336c3878fc",
   "metadata": {},
   "source": [
    "### Extraction de tous les temps d'activation"
   ]
  },
  {
   "cell_type": "markdown",
   "id": "ad956f8e-3d84-445c-97c3-e86ce6af5a76",
   "metadata": {},
   "source": [
    "En guise de facilitation de la tâche, nous allons procéder à l'extraction des temps d'activation des neuf tâches, puis mettre le tout dans une liste que nous trierons par la suite."
   ]
  },
  {
   "cell_type": "code",
   "execution_count": 8,
   "id": "f5604f02-eca7-49c9-a545-d1f3189521de",
   "metadata": {},
   "outputs": [],
   "source": [
    "result_list = []\n",
    "\n",
    "for tache in tasks_list:\n",
    "    result_list += extractor(ma_mission, mon_scenario, \"activation\", tache)\n",
    "\n",
    "result_list.sort()"
   ]
  },
  {
   "cell_type": "code",
   "execution_count": 9,
   "id": "fe88f8f7-ebd7-459c-859b-a4ee11a466ad",
   "metadata": {},
   "outputs": [
    {
     "name": "stdout",
     "output_type": "stream",
     "text": [
      "[24235406, 24236199, 24239298, 24241457, 24244457, 24245406, 24246209, 24247656, 24248457, 24254309]\n",
      "longueur de la liste:  9431\n"
     ]
    }
   ],
   "source": [
    "print(result_list[:10])\n",
    "print(\"longueur de la liste: \", len(result_list))"
   ]
  },
  {
   "cell_type": "markdown",
   "id": "28b15b75-deff-4ae9-9728-b9a763db1769",
   "metadata": {},
   "source": [
    "#### Exportation des données sous format csv"
   ]
  },
  {
   "cell_type": "code",
   "execution_count": 10,
   "id": "07f92505-32f7-4a89-a52d-6ffc4fc4d1b5",
   "metadata": {},
   "outputs": [],
   "source": [
    "exporter(ma_mission, mon_scenario, \"all\", \"activation\", result_list)"
   ]
  },
  {
   "cell_type": "markdown",
   "id": "9848f9c2-57c1-4ae1-afa2-4f5328b3a137",
   "metadata": {},
   "source": [
    "## Extraction des temps de fin de tâches"
   ]
  },
  {
   "cell_type": "markdown",
   "id": "db2f73ab-c8e6-4cce-a177-daf283ceeafe",
   "metadata": {},
   "source": [
    "### Extraction par tâche"
   ]
  },
  {
   "cell_type": "code",
   "execution_count": 11,
   "id": "a70b9a6a-995b-479d-b903-7e170da8b2cb",
   "metadata": {},
   "outputs": [],
   "source": [
    "res = extractor(ma_mission, mon_scenario, \"end\", ma_tache)"
   ]
  },
  {
   "cell_type": "code",
   "execution_count": 12,
   "id": "eab9bfcb-9ae9-40ef-87e8-2c2aa2c18e69",
   "metadata": {},
   "outputs": [
    {
     "name": "stdout",
     "output_type": "stream",
     "text": [
      "[24247758, 24262699, 24277757, 24292756, 24307755, 24322737, 24337756, 24352756, 24367773, 24382699]\n",
      "longueur de la liste:  1068\n"
     ]
    }
   ],
   "source": [
    "print(res[:10])\n",
    "print(\"longueur de la liste: \", len(res))"
   ]
  },
  {
   "cell_type": "markdown",
   "id": "3d0a53fe-7314-404e-b009-832d300b8f94",
   "metadata": {},
   "source": [
    "#### Exportation des données sous format csv"
   ]
  },
  {
   "cell_type": "code",
   "execution_count": 13,
   "id": "efc59917-d7e4-4291-ab1f-ed52efcafa3f",
   "metadata": {},
   "outputs": [],
   "source": [
    "exporter(ma_mission, mon_scenario, ma_tache, \"end\",  res)"
   ]
  },
  {
   "cell_type": "markdown",
   "id": "3765c992-7dca-44c4-9fb1-9333819ec4c5",
   "metadata": {},
   "source": [
    "### Extraction de tous les temps de fin"
   ]
  },
  {
   "cell_type": "code",
   "execution_count": 14,
   "id": "9fbff0d0-da86-446e-9cb0-b6544cd55969",
   "metadata": {},
   "outputs": [],
   "source": [
    "result_list = []\n",
    "\n",
    "for tache in tasks_list:\n",
    "    result_list += extractor(ma_mission, mon_scenario, \"end\", tache)\n",
    "\n",
    "result_list.sort()"
   ]
  },
  {
   "cell_type": "code",
   "execution_count": 15,
   "id": "ce27d089-0111-4976-9c78-a0347b5f1ed8",
   "metadata": {},
   "outputs": [
    {
     "name": "stdout",
     "output_type": "stream",
     "text": [
      "[24235925, 24236447, 24239360, 24241640, 24244509, 24246194, 24246415, 24247758, 24248505, 24254371]\n",
      "longueur de la liste:  9431\n"
     ]
    }
   ],
   "source": [
    "print(result_list[:10])\n",
    "print(\"longueur de la liste: \", len(result_list))"
   ]
  },
  {
   "cell_type": "markdown",
   "id": "cd148b94-16db-44b8-bdf4-f245bbd2968b",
   "metadata": {},
   "source": [
    "#### Exportation des données sous format csv"
   ]
  },
  {
   "cell_type": "code",
   "execution_count": 16,
   "id": "0b2f4441-8636-4c28-b2e1-19d11f49178d",
   "metadata": {},
   "outputs": [],
   "source": [
    "exporter(ma_mission, mon_scenario, \"all\", \"end\", result_list)"
   ]
  },
  {
   "cell_type": "markdown",
   "id": "4fb8f686-240f-4212-80b0-5aeac254a0f8",
   "metadata": {},
   "source": [
    "### Extraction des temps d'exécution"
   ]
  },
  {
   "cell_type": "code",
   "execution_count": 17,
   "id": "000b79b1-0854-457f-a545-419f1012a0be",
   "metadata": {},
   "outputs": [],
   "source": [
    "res = extractor(ma_mission, mon_scenario, \"xtime\", ma_tache)"
   ]
  },
  {
   "cell_type": "code",
   "execution_count": 18,
   "id": "558fbcb4-dd56-455c-8f3c-5807aceb324e",
   "metadata": {},
   "outputs": [
    {
     "name": "stdout",
     "output_type": "stream",
     "text": [
      "[86, 28, 86, 85, 84, 85, 85, 85, 89, 28]\n",
      "longueur de la liste:  1068\n"
     ]
    }
   ],
   "source": [
    "print(res[:10])\n",
    "print(\"longueur de la liste: \", len(res))"
   ]
  },
  {
   "cell_type": "code",
   "execution_count": 19,
   "id": "ad68e577-9a8f-41b2-81fd-f6eddfca9007",
   "metadata": {},
   "outputs": [],
   "source": [
    "exporter(ma_mission, mon_scenario, ma_tache, \"xtime\",  res)"
   ]
  },
  {
   "cell_type": "markdown",
   "id": "97c0b756-9c12-4fdb-bb94-efeaa74e1387",
   "metadata": {},
   "source": [
    "### Extraction des start times"
   ]
  },
  {
   "cell_type": "code",
   "execution_count": 20,
   "id": "a8b775af-7c65-4742-9c0d-b1a352c1e228",
   "metadata": {},
   "outputs": [],
   "source": [
    "res = extractor(ma_mission, mon_scenario, \"start\", ma_tache)"
   ]
  },
  {
   "cell_type": "code",
   "execution_count": 21,
   "id": "5cca600a-1f50-4b15-8e70-b7e9598c81e0",
   "metadata": {},
   "outputs": [
    {
     "name": "stdout",
     "output_type": "stream",
     "text": [
      "[24247672, 24262671, 24277671, 24292671, 24307671, 24322652, 24337671, 24352671, 24367684, 24382671]\n",
      "longueur de la liste:  1068\n"
     ]
    }
   ],
   "source": [
    "print(res[:10])\n",
    "print(\"longueur de la liste: \", len(res))"
   ]
  },
  {
   "cell_type": "code",
   "execution_count": 22,
   "id": "95eeeb21-3cf7-4f99-a44b-074125f39ce5",
   "metadata": {},
   "outputs": [],
   "source": [
    "exporter(ma_mission, mon_scenario, ma_tache, \"start\",  res)"
   ]
  },
  {
   "cell_type": "markdown",
   "id": "abef47cc-70ef-49c7-9a66-e847902c08b6",
   "metadata": {},
   "source": [
    "## Extraction de tout les données possible"
   ]
  },
  {
   "cell_type": "markdown",
   "id": "f77e0eee-b4fb-4cd0-9d7d-8ea1b572f290",
   "metadata": {},
   "source": [
    "Le script suivant combine tout le code précédent pour extraire tous les données d'activation et de fin des tâches des trois missions avec leurs quatres scénarios"
   ]
  },
  {
   "cell_type": "code",
   "execution_count": 16,
   "id": "baa7ce01-210d-4f7e-8e9d-c879f7e709a7",
   "metadata": {},
   "outputs": [],
   "source": [
    "# Cette extraction peut être longue. à lancer si nécessaire.\n",
    "\n",
    "\n",
    "\n",
    "# total = 2 * 3 * 4 * 9  # sert juste à montrer le progrès de l'extraction par la suite dans la boucle\n",
    "# i = 1\n",
    "# for job in [\"activation\", \"end\"]: # les deux job que nous voulons\n",
    "#     for mission in [\"short\", \"medium\", \"long\"]:  #les 3 missions\n",
    "#         for scenario in range(1,5): #les 4 scenario de chaque mission\n",
    "#             all_tasks_results = [] # cette liste va servir pour sauvegarder les données extraites de toutes les tache d'un scénario dans un seul fichier\n",
    "#             for tache in tasks_list: \n",
    "#                 prcntg = (i / total) * 100 #pourcentage de progression\n",
    "#                 print(f\"{prcntg:.1f} %\", end='\\r')\n",
    "#                 res = extractor(mission, scenario, job, tache)\n",
    "#                 res = [x for x in res if x is not None] #dans certains mission/scénario, l'extracteur laisse certaines cases vides ! \n",
    "#                 #exporter(mission, scenario, tache, job, res)\n",
    "#                 all_tasks_results += res\n",
    "#                 i += 1\n",
    "#             exporter(mission, scenario, \"all\", job, sorted(all_tasks_results))     "
   ]
  }
 ],
 "metadata": {
  "kernelspec": {
   "display_name": "Python 3 (ipykernel)",
   "language": "python",
   "name": "python3"
  },
  "language_info": {
   "codemirror_mode": {
    "name": "ipython",
    "version": 3
   },
   "file_extension": ".py",
   "mimetype": "text/x-python",
   "name": "python",
   "nbconvert_exporter": "python",
   "pygments_lexer": "ipython3",
   "version": "3.10.12"
  }
 },
 "nbformat": 4,
 "nbformat_minor": 5
}
